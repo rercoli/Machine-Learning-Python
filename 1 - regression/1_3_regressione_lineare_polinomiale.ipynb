{
 "cells": [
  {
   "cell_type": "code",
   "execution_count": 1,
   "metadata": {},
   "outputs": [],
   "source": [
    "import numpy as np\n",
    "import matplotlib.pyplot as plt\n",
    "from mpl_toolkits.mplot3d import Axes3D\n",
    "import pandas as pd\n",
    "\n",
    "%matplotlib inline"
   ]
  },
  {
   "cell_type": "markdown",
   "metadata": {},
   "source": [
    "<div class=\"alert alert-info\" role=\"alert\">\n",
    "    <h1>DATA IMPORT</h1>\n",
    "</div>"
   ]
  },
  {
   "cell_type": "code",
   "execution_count": 2,
   "metadata": {},
   "outputs": [],
   "source": [
    "path='https://raw.githubusercontent.com/MatteoGandetto/Corso_ML_con_Python/master/Regressione_Polinomiale_IN.csv'\n",
    "INPUT_df = pd.read_csv(path)"
   ]
  },
  {
   "cell_type": "code",
   "execution_count": 3,
   "metadata": {},
   "outputs": [
    {
     "data": {
      "text/html": [
       "<div>\n",
       "<style scoped>\n",
       "    .dataframe tbody tr th:only-of-type {\n",
       "        vertical-align: middle;\n",
       "    }\n",
       "\n",
       "    .dataframe tbody tr th {\n",
       "        vertical-align: top;\n",
       "    }\n",
       "\n",
       "    .dataframe thead th {\n",
       "        text-align: right;\n",
       "    }\n",
       "</style>\n",
       "<table border=\"1\" class=\"dataframe\">\n",
       "  <thead>\n",
       "    <tr style=\"text-align: right;\">\n",
       "      <th></th>\n",
       "      <th>Superficie</th>\n",
       "      <th>Prezzo</th>\n",
       "    </tr>\n",
       "  </thead>\n",
       "  <tbody>\n",
       "    <tr>\n",
       "      <th>0</th>\n",
       "      <td>60</td>\n",
       "      <td>338611</td>\n",
       "    </tr>\n",
       "    <tr>\n",
       "      <th>1</th>\n",
       "      <td>70</td>\n",
       "      <td>655033</td>\n",
       "    </tr>\n",
       "    <tr>\n",
       "      <th>2</th>\n",
       "      <td>140</td>\n",
       "      <td>5697001</td>\n",
       "    </tr>\n",
       "    <tr>\n",
       "      <th>3</th>\n",
       "      <td>150</td>\n",
       "      <td>7011305</td>\n",
       "    </tr>\n",
       "    <tr>\n",
       "      <th>4</th>\n",
       "      <td>79</td>\n",
       "      <td>534887</td>\n",
       "    </tr>\n",
       "  </tbody>\n",
       "</table>\n",
       "</div>"
      ],
      "text/plain": [
       "   Superficie   Prezzo\n",
       "0          60   338611\n",
       "1          70   655033\n",
       "2         140  5697001\n",
       "3         150  7011305\n",
       "4          79   534887"
      ]
     },
     "execution_count": 3,
     "metadata": {},
     "output_type": "execute_result"
    }
   ],
   "source": [
    "INPUT_df.head()"
   ]
  },
  {
   "cell_type": "code",
   "execution_count": 4,
   "metadata": {},
   "outputs": [
    {
     "data": {
      "text/plain": [
       "(108, 2)"
      ]
     },
     "execution_count": 4,
     "metadata": {},
     "output_type": "execute_result"
    }
   ],
   "source": [
    "INPUT_df.shape"
   ]
  },
  {
   "cell_type": "code",
   "execution_count": 5,
   "metadata": {},
   "outputs": [],
   "source": [
    "# remove nan values\n",
    "\n",
    "INPUT_df = INPUT_df.dropna(1, \"all\") #remove rows\n",
    "INPUT_df = INPUT_df.dropna(0, \"all\") #remove columns"
   ]
  },
  {
   "cell_type": "code",
   "execution_count": 6,
   "metadata": {},
   "outputs": [],
   "source": [
    "# convert to numpy arrays\n",
    "\n",
    "np_IN = np.array(INPUT_df)"
   ]
  },
  {
   "cell_type": "code",
   "execution_count": 7,
   "metadata": {},
   "outputs": [],
   "source": [
    "# split into features and target columns\n",
    "\n",
    "np_IN_X = np_IN[:,0]\n",
    "np_IN_y = np_IN[:,1]"
   ]
  },
  {
   "cell_type": "code",
   "execution_count": 8,
   "metadata": {},
   "outputs": [
    {
     "data": {
      "text/plain": [
       "(108,)"
      ]
     },
     "execution_count": 8,
     "metadata": {},
     "output_type": "execute_result"
    }
   ],
   "source": [
    "np_IN_X.shape"
   ]
  },
  {
   "cell_type": "code",
   "execution_count": 9,
   "metadata": {},
   "outputs": [
    {
     "data": {
      "text/plain": [
       "(108,)"
      ]
     },
     "execution_count": 9,
     "metadata": {},
     "output_type": "execute_result"
    }
   ],
   "source": [
    "np_IN_y.shape"
   ]
  },
  {
   "cell_type": "code",
   "execution_count": 10,
   "metadata": {},
   "outputs": [
    {
     "name": "stderr",
     "output_type": "stream",
     "text": [
      "C:\\Users\\ricca\\anaconda3\\envs\\Machine_learning\\lib\\site-packages\\ipykernel_launcher.py:12: UserWarning: Matplotlib is currently using module://ipykernel.pylab.backend_inline, which is a non-GUI backend, so cannot show the figure.\n",
      "  if sys.path[0] == '':\n"
     ]
    },
    {
     "data": {
      "image/png": "[encoded data removed]",
      "text/plain": [
       "<Figure size 864x360 with 2 Axes>"
      ]
     },
     "metadata": {
      "needs_background": "light"
     },
     "output_type": "display_data"
    }
   ],
   "source": [
    "# plot data\n",
    "\n",
    "fig, axs = plt.subplots(1, 2)\n",
    "fig.set_size_inches(12, 5)\n",
    "axs[0].scatter(np_IN_X, np_IN_y)\n",
    "axs[0].set_xlabel(\"surface\")\n",
    "axs[0].set_ylabel(\"price\")\n",
    "axs[0].set_title(\"Dataset\")\n",
    "axs[1].boxplot(np_IN_X)\n",
    "axs[1].set_ylabel(\"surface values\")\n",
    "axs[1].set_title(\"Surface Details\")\n",
    "fig.show()"
   ]
  },
  {
   "cell_type": "markdown",
   "metadata": {},
   "source": [
    "<div class=\"alert alert-info\" role=\"alert\">\n",
    "    <h1>DATA PREPROCESSING</h1>\n",
    "</div>"
   ]
  },
  {
   "cell_type": "code",
   "execution_count": 11,
   "metadata": {},
   "outputs": [],
   "source": [
    "# split dataset into train and test sets\n",
    "\n",
    "from sklearn.model_selection import train_test_split\n",
    "X_train, X_test, y_train, y_test = train_test_split(np_IN_X,np_IN_y,test_size=0.25)"
   ]
  },
  {
   "cell_type": "markdown",
   "metadata": {},
   "source": [
    "<div class=\"alert alert-info\" role=\"alert\">\n",
    "    <h1>ML MODEL</h1>\n",
    "</div>"
   ]
  },
  {
   "cell_type": "markdown",
   "metadata": {},
   "source": [
    "### Linear regression model"
   ]
  },
  {
   "cell_type": "code",
   "execution_count": 12,
   "metadata": {},
   "outputs": [],
   "source": [
    "from sklearn.linear_model import LinearRegression\n",
    "from sklearn.metrics import mean_squared_error"
   ]
  },
  {
   "cell_type": "code",
   "execution_count": 13,
   "metadata": {},
   "outputs": [
    {
     "name": "stdout",
     "output_type": "stream",
     "text": [
      "TEST\n",
      "R^2= 0.8688998080904657 \n",
      "MSE= 388478984812.318726 \n",
      "\n",
      "TRAIN\n",
      "R^2= 0.9051864647366753 \n",
      "MSE= 413043373468.696106 \n",
      "\n"
     ]
    },
    {
     "name": "stderr",
     "output_type": "stream",
     "text": [
      "C:\\Users\\ricca\\anaconda3\\envs\\Machine_learning\\lib\\site-packages\\ipykernel_launcher.py:39: UserWarning: Matplotlib is currently using module://ipykernel.pylab.backend_inline, which is a non-GUI backend, so cannot show the figure.\n"
     ]
    },
    {
     "data": {
      "image/png": "[encoded data removed]",
      "text/plain": [
       "<Figure size 864x360 with 2 Axes>"
      ]
     },
     "metadata": {
      "needs_background": "light"
     },
     "output_type": "display_data"
    }
   ],
   "source": [
    "# reshape features to be used with LinearRegression's methods\n",
    "\n",
    "X_train_r=np.reshape(X_train,(-1, 1))\n",
    "X_test_r=np.reshape(X_test,(-1, 1))\n",
    "X_all=np.reshape(np_IN_X,(-1, 1))\n",
    "\n",
    "# train the linear regressor\n",
    "\n",
    "reg = LinearRegression().fit(X_train_r, y_train)\n",
    "\n",
    "# predict using trained model\n",
    "\n",
    "y_pred_test=reg.predict(X_test_r)\n",
    "y_pred_train=reg.predict(X_train_r)\n",
    "\n",
    "# evaluate the model by using R2=1-RSE and MSE\n",
    "\n",
    "R2=reg.score(X_test_r,y_test)\n",
    "MSE = mean_squared_error( y_test,y_pred_test)\n",
    "R2_train=reg.score(X_train_r,y_train)\n",
    "MSE_train = mean_squared_error(y_train,y_pred_train)\n",
    "print ('TEST\\nR^2=',R2,'\\nMSE= %f \\n' % MSE)\n",
    "print ('TRAIN\\nR^2=',R2_train,'\\nMSE= %f \\n' % MSE_train)\n",
    "\n",
    "# plot the solution\n",
    "\n",
    "fig, axs = plt.subplots(1,2)\n",
    "fig.set_size_inches(12,5)\n",
    "axs[0].set_xlabel('sup')\n",
    "axs[0].set_ylabel('price')\n",
    "axs[0].set_title('TEST')\n",
    "axs[0].scatter(X_test,y_test)\n",
    "axs[0].plot(X_test,y_pred_test,c='red',linewidth=3)\n",
    "axs[1].set_title('TRAIN')\n",
    "axs[1].set_xlabel('sup')\n",
    "axs[1].set_ylabel('price')\n",
    "axs[1].scatter(X_train,y_train)\n",
    "axs[1].plot(X_train,y_pred_train,c='red',linewidth=3)\n",
    "fig.show()"
   ]
  },
  {
   "cell_type": "markdown",
   "metadata": {},
   "source": [
    "### Polynomial model"
   ]
  },
  {
   "cell_type": "code",
   "execution_count": 14,
   "metadata": {},
   "outputs": [],
   "source": [
    "from sklearn.preprocessing import PolynomialFeatures"
   ]
  },
  {
   "cell_type": "code",
   "execution_count": 15,
   "metadata": {},
   "outputs": [
    {
     "name": "stdout",
     "output_type": "stream",
     "text": [
      "TEST\n",
      "R^2= 0.9869412530464168 \n",
      "MSE= 38695967454.796890 \n",
      "\n",
      "TRAIN\n",
      "R^2= 0.990957351477647 \n",
      "MSE= 39393173563.154190 \n",
      "\n"
     ]
    }
   ],
   "source": [
    "# modify features to polynomial aspect\n",
    "\n",
    "poly_reg = PolynomialFeatures(degree=3)\n",
    "X_poly_train = poly_reg.fit_transform(X_train_r)\n",
    "X_poly_test = poly_reg.fit_transform(X_test_r)\n",
    "X_poly_all = poly_reg.fit_transform(X_all)\n",
    "\n",
    "\n",
    "# train the Linear Regression with trandformed 'polinomially' features\n",
    "\n",
    "pol_reg = LinearRegression()\n",
    "pol_reg.fit(X_poly_train, y_train)\n",
    "\n",
    "# predict using fitted model\n",
    "\n",
    "y_pred_test=pol_reg.predict(X_poly_test)\n",
    "y_pred_train=pol_reg.predict(X_poly_train)\n",
    "y_pred_all=pol_reg.predict(X_poly_all)\n",
    "\n",
    "# evaluate the model by using R=1-RSE and MSE\n",
    "\n",
    "R2=pol_reg.score(X_poly_test,y_test)\n",
    "MSE = mean_squared_error( y_test,y_pred_test)\n",
    "R2_train=pol_reg.score(X_poly_train,y_train)\n",
    "MSE_train = mean_squared_error(y_train,y_pred_train)\n",
    "print ('TEST\\nR^2=',R2,'\\nMSE= %f \\n' % MSE)\n",
    "print ('TRAIN\\nR^2=',R2_train,'\\nMSE= %f \\n' % MSE_train)"
   ]
  },
  {
   "cell_type": "code",
   "execution_count": 16,
   "metadata": {},
   "outputs": [
    {
     "name": "stderr",
     "output_type": "stream",
     "text": [
      "C:\\Users\\ricca\\anaconda3\\envs\\Machine_learning\\lib\\site-packages\\ipykernel_launcher.py:9: UserWarning: Matplotlib is currently using module://ipykernel.pylab.backend_inline, which is a non-GUI backend, so cannot show the figure.\n",
      "  if __name__ == '__main__':\n"
     ]
    },
    {
     "data": {
      "image/png": "[encoded data removed]",
      "text/plain": [
       "<Figure size 432x288 with 1 Axes>"
      ]
     },
     "metadata": {
      "needs_background": "light"
     },
     "output_type": "display_data"
    }
   ],
   "source": [
    "# plot the solution\n",
    "\n",
    "fig, axs = plt.subplots(1,1)\n",
    "axs.set_xlabel('surface [m^2]')\n",
    "axs.set_ylabel('price [euro]')\n",
    "axs.scatter(X_test,y_test)\n",
    "axs.scatter(X_train,y_train,color='red')\n",
    "axs.scatter(X_all,y_pred_all,c='green',linewidth=0.5)\n",
    "fig.show()"
   ]
  },
  {
   "cell_type": "code",
   "execution_count": null,
   "metadata": {},
   "outputs": [],
   "source": []
  }
 ],
 "metadata": {
  "kernelspec": {
   "display_name": "Python 3",
   "language": "python",
   "name": "python3"
  },
  "language_info": {
   "codemirror_mode": {
    "name": "ipython",
    "version": 3
   },
   "file_extension": ".py",
   "mimetype": "text/x-python",
   "name": "python",
   "nbconvert_exporter": "python",
   "pygments_lexer": "ipython3",
   "version": "3.6.10"
  }
 },
 "nbformat": 4,
 "nbformat_minor": 4
}
